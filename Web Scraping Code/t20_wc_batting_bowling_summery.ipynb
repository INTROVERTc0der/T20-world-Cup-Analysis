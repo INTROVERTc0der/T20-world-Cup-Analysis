{
  "nbformat": 4,
  "nbformat_minor": 0,
  "metadata": {
    "colab": {
      "provenance": []
    },
    "kernelspec": {
      "name": "python3",
      "display_name": "Python 3"
    },
    "language_info": {
      "name": "python"
    }
  },
  "cells": [
    {
      "cell_type": "code",
      "execution_count": null,
      "metadata": {
        "id": "7NMNA0ytoov1"
      },
      "outputs": [],
      "source": [
        "import requests\n",
        "from bs4 import BeautifulSoup\n",
        "\n",
        "# ------- 1.a Interaction Code ------ #\n",
        "url = 'https://stats.espncricinfo.com/ci/engine/records/team/match_results.html?id=14450;type=tournament'\n",
        "headers = {\n",
        "    'User-Agent': 'Mozilla/5.0 (Windows NT 10.0; Win64; x64) AppleWebKit/537.36 (KHTML, like Gecko) Chrome/58.0.3029.110 Safari/537.3'\n",
        "}\n",
        "response = requests.get(url, headers=headers)\n",
        "\n",
        "# Check if the request was successful (status code 200)\n",
        "if response.status_code == 200:\n",
        "    # Proceed with parsing the HTML content\n",
        "    soup = BeautifulSoup(response.text, 'html.parser')\n",
        "\n",
        "\n",
        "    # ------- 1.b Parser Code ------------ #\n",
        "    links = []\n",
        "    table_body = soup.select('#main-container > div.ds-relative > div > div.ds-flex.ds-space-x-5 > div.ds-grow > div:nth-child(2) > div > div:nth-child(1) > div.ds-overflow-x-auto.ds-scrollbar-hide > table > tbody')[0]\n",
        "    table_rows = table_body.find_all('tr')\n",
        "\n",
        "    for row in table_rows:\n",
        "        tds = row.find_all('td')\n",
        "        relative_url = tds[6].find('a')['href']\n",
        "        row_url = \"https://www.espncricinfo.com\" + relative_url\n",
        "        links.append(row_url)\n",
        "\n",
        "    # This 'links' list now contains all the URLs of match summaries.\n",
        "else:\n",
        "    print(\"Failed to retrieve data from the website. Status code:\", response.status_code)"
      ]
    },
    {
      "cell_type": "code",
      "source": [
        "batting_summaries = []\n",
        "bowling_summaries = []\n",
        "\n",
        "def parse_batting_rows(rows, team, match_info):\n",
        "            for index, row in enumerate(rows):\n",
        "                tds = row.find_all('td')\n",
        "                if len(tds) >= 8:  # Ensuring we only process valid batting rows\n",
        "                    batting_summaries.append({\n",
        "                        \"match\": match_info,\n",
        "                        \"teamInnings\": team,\n",
        "                        \"battingPos\": index + 1,\n",
        "                        \"batsmanName\": tds[0].find('a').text.strip(),\n",
        "                        \"dismissal\": tds[1].text.strip(),\n",
        "                        \"runs\": tds[2].text.strip(),\n",
        "                        \"balls\": tds[3].text.strip(),\n",
        "                        \"4s\": tds[5].text.strip(),\n",
        "                        \"6s\": tds[6].text.strip(),\n",
        "                        \"SR\": tds[7].text.strip()\n",
        "                    })\n",
        "\n",
        "\n",
        "def parse_bowling_rows(rows, bowling_team, match_info):\n",
        "        for row in rows:\n",
        "            tds = row.find_all('td')\n",
        "            if len(tds) >= 11:  # Ensuring we only process valid bowling rows\n",
        "                bowling_summaries.append({\n",
        "                    \"match\": match_info,\n",
        "                    \"bowlingTeam\": bowling_team,\n",
        "                    \"bowlerName\": tds[0].find('a').text.strip(),\n",
        "                    \"overs\": tds[1].text.strip(),\n",
        "                    \"maiden\": tds[2].text.strip(),\n",
        "                    \"runs\": tds[3].text.strip(),\n",
        "                    \"wickets\": tds[4].text.strip(),\n",
        "                    \"economy\": tds[5].text.strip(),\n",
        "                    \"0s\": tds[6].text.strip(),\n",
        "                    \"4s\": tds[7].text.strip(),\n",
        "                    \"6s\": tds[8].text.strip(),\n",
        "                    \"wides\": tds[9].text.strip(),\n",
        "                    \"noBalls\": tds[10].text.strip(),\n",
        "                })\n",
        "\n",
        "\n",
        "\n",
        "for match_url in links:\n",
        "    # ------- 2.a Interaction Code ------ #\n",
        "    response = requests.get(match_url, headers=headers)\n",
        "\n",
        "    # Check if the request was successful (status code 200)\n",
        "    if response.status_code == 200:\n",
        "        # Proceed with parsing the HTML content\n",
        "        soup = BeautifulSoup(response.content, 'html.parser')\n",
        "\n",
        "        # ------- 2.b Parser Code ------------ #\n",
        "        match_details = soup.find_all('div',class_='ds-bg-fill-canvas')\n",
        "\n",
        "        teams= match_details[0].find_all('span',class_='ds-text-tight-xs')\n",
        "        team1 = teams[0].text.replace(\" Innings\",\"\")\n",
        "        team2 = teams[1].text.replace(\" Innings\",\"\")\n",
        "        match_info = f\"{team1} Vs {team2}\"\n",
        "\n",
        "        # Extracting Batting Summary\n",
        "        table_div= soup.find_all('div',class_ = 'ds-p-0')\n",
        "        first_innings_rows = (table_div[1].find_all('table'))[0].select('tbody > tr')\n",
        "        second_innings_rows = (table_div[2].find_all('table'))[0].select('tbody > tr')\n",
        "\n",
        "\n",
        "        # Extracting Bowling Summary\n",
        "        first_innings_bowlers = (table_div[1].find_all('table'))[1].select('tbody > tr')\n",
        "        second_innings_bowlers = (table_div[2].find_all('table'))[1].select('tbody > tr')\n",
        "\n",
        "        # Parsing first innings\n",
        "        parse_batting_rows(first_innings_rows, team1, match_info)\n",
        "\n",
        "        # Parsing second innings\n",
        "        parse_batting_rows(second_innings_rows, team2, match_info)\n",
        "\n",
        "        # The 'batting_summaries' list now contains all the batting data for the matches.\n",
        "\n",
        "        # Parsing first innings\n",
        "        parse_bowling_rows(first_innings_bowlers, team1, match_info)\n",
        "\n",
        "        # Parsing second innings\n",
        "        parse_bowling_rows(second_innings_bowlers, team2, match_info)\n",
        "\n",
        "        # The 'bowling_summaries' list now contains all the bowling data for the matches.\n",
        "\n",
        "\n",
        "\n",
        "    else:\n",
        "        print(\"Failed to retrieve data from the website. Status code:\", response.status_code)\n",
        "\n",
        "\n",
        "\n"
      ],
      "metadata": {
        "id": "0hd8ABcuAAs9"
      },
      "execution_count": null,
      "outputs": []
    },
    {
      "cell_type": "code",
      "source": [
        "print(\"batting_summaries total:\", len(batting_summaries))\n",
        "print(\"bowling summaries total:\",len(bowling_summaries))\n",
        "print()\n",
        "print(batting_summaries[0])\n",
        "print()\n",
        "print(bowling_summaries[0])\n"
      ],
      "metadata": {
        "colab": {
          "base_uri": "https://localhost:8080/"
        },
        "id": "D5Kbud6YGDoH",
        "outputId": "21c65e15-f89a-4b6a-81dc-d3ffd87017db"
      },
      "execution_count": null,
      "outputs": [
        {
          "output_type": "stream",
          "name": "stdout",
          "text": [
            "batting_summaries total: 699\n",
            "bowling summaries total: 500\n",
            "\n",
            "{'match': 'Pakistan Vs England', 'teamInnings': 'Pakistan', 'battingPos': 1, 'batsmanName': 'Mohammad Rizwan\\xa0†', 'dismissal': 'b Curran', 'runs': '15', 'balls': '14', '4s': '0', '6s': '1', 'SR': '107.14'}\n",
            "\n",
            "{'match': 'Pakistan Vs England', 'bowlingTeam': 'Pakistan', 'bowlerName': 'Ben Stokes', 'overs': '4', 'maiden': '0', 'runs': '32', 'wickets': '1', 'economy': '8.00', '0s': '6', '4s': '1', '6s': '0', 'wides': '2', 'noBalls': '1'}\n"
          ]
        }
      ]
    },
    {
      "cell_type": "code",
      "source": [
        "import json\n",
        "\n",
        "# Specify the file path where you want to store the JSON file\n",
        "file_path = 't20_wc_batting_summary.json'\n",
        "\n",
        "# Writing the list to a JSON file\n",
        "with open(file_path, 'w') as json_file:\n",
        "    json.dump(batting_summaries, json_file, indent=4)\n",
        "\n",
        "print(f\"List has been stored in {file_path}\")\n",
        "\n",
        "file_path = 't20_wc_bowling_summary.json'\n",
        "\n",
        "# Writing the list to a JSON file\n",
        "with open(file_path, 'w') as json_file:\n",
        "    json.dump(bowling_summaries, json_file, indent=4)\n",
        "\n",
        "print(f\"List has been stored in {file_path}\")\n"
      ],
      "metadata": {
        "colab": {
          "base_uri": "https://localhost:8080/"
        },
        "id": "dTAdYbiUD3xz",
        "outputId": "178d160c-f018-4247-8eed-a696b1374327"
      },
      "execution_count": null,
      "outputs": [
        {
          "output_type": "stream",
          "name": "stdout",
          "text": [
            "List has been stored in t20_wc_batting_summary.json\n",
            "List has been stored in t20_wc_bowling_summary.json\n"
          ]
        }
      ]
    }
  ]
}