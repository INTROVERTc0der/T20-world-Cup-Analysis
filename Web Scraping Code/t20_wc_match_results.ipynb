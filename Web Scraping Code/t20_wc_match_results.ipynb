{
  "nbformat": 4,
  "nbformat_minor": 0,
  "metadata": {
    "colab": {
      "provenance": []
    },
    "kernelspec": {
      "name": "python3",
      "display_name": "Python 3"
    },
    "language_info": {
      "name": "python"
    }
  },
  "cells": [
    {
      "cell_type": "code",
      "execution_count": null,
      "metadata": {
        "colab": {
          "base_uri": "https://localhost:8080/"
        },
        "id": "A5uqVmWVmNiP",
        "outputId": "a06af4c3-574f-479c-84c1-5df6133b57d7"
      },
      "outputs": [
        {
          "output_type": "stream",
          "name": "stdout",
          "text": [
            "List has been stored in t20_wc_match_results.json\n"
          ]
        }
      ],
      "source": [
        "import requests\n",
        "from bs4 import BeautifulSoup\n",
        "import json\n",
        "\n",
        "\n",
        "# Step 1: Sending a request to the webpage\n",
        "url = 'https://stats.espncricinfo.com/ci/engine/records/team/match_results.html?id=14450;type=tournament'\n",
        "headers = {\n",
        "    'User-Agent': 'Mozilla/5.0 (Windows NT 10.0; Win64; x64) AppleWebKit/537.36 (KHTML, like Gecko) Chrome/58.0.3029.110 Safari/537.3'\n",
        "}\n",
        "response = requests.get(url, headers=headers)\n",
        "\n",
        "# Check if the request was successful (status code 200)\n",
        "if response.status_code == 200:\n",
        "    # Proceed with parsing the HTML content\n",
        "    soup = BeautifulSoup(response.text, 'html.parser')\n",
        "\n",
        "    # Step 2: Creating an array to store all the records\n",
        "    match_summary = []\n",
        "\n",
        "    # Step 3: Selecting all rows from the target table\n",
        "    table_body = soup.select('#main-container > div.ds-relative > div > div.ds-flex.ds-space-x-5 > div.ds-grow > div:nth-child(2) > div > div:nth-child(1) > div.ds-overflow-x-auto.ds-scrollbar-hide > table > tbody')[0]\n",
        "    table_rows = table_body.find_all('tr')\n",
        "    # Step 4: Looping through each row and getting the data from the cells (td)\n",
        "    for row in table_rows:\n",
        "        cells = row.find_all('td')\n",
        "        match_summary.append({\n",
        "            'team1': cells[0].text.strip(),\n",
        "            'team2': cells[1].text.strip(),\n",
        "            'winner': cells[2].text.strip(),\n",
        "            'margin': cells[3].text.strip(),\n",
        "            'ground': cells[4].text.strip(),\n",
        "            'matchDate': cells[5].text.strip(),\n",
        "            'scorecard': cells[6].text.strip()\n",
        "        })\n",
        "\n",
        "    # Step 5: Returning the data\n",
        "    result = {\n",
        "        \"matchSummary\": match_summary\n",
        "    }\n",
        "\n",
        "\n",
        "    # Specify the file path where you want to store the JSON file\n",
        "    file_path = 't20_wc_match_results.json'\n",
        "\n",
        "    # Writing the list to a JSON file\n",
        "    with open(file_path, 'w') as json_file:\n",
        "        json.dump(result, json_file, indent=4)\n",
        "\n",
        "    print(f\"List has been stored in {file_path}\")\n",
        "\n",
        "\n",
        "\n",
        "else:\n",
        "    print(\"Failed to retrieve data from the website. Status code:\", response.status_code)\n"
      ]
    }
  ]
}